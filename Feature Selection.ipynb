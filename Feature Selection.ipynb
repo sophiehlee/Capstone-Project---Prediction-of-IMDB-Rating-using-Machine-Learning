{
 "cells": [
  {
   "cell_type": "code",
   "execution_count": 1,
   "metadata": {},
   "outputs": [],
   "source": [
    "import numpy as np\n",
    "import pandas as pd\n",
    "import seaborn as sns\n",
    "import matplotlib.pyplot as plt\n",
    "%matplotlib inline"
   ]
  },
  {
   "cell_type": "code",
   "execution_count": 2,
   "metadata": {},
   "outputs": [],
   "source": [
    "df = pd.read_csv(\"C:/Users/Sophie/Desktop/movie_metadata.csv\")"
   ]
  },
  {
   "cell_type": "code",
   "execution_count": 3,
   "metadata": {},
   "outputs": [],
   "source": [
    "df.color.replace(to_replace=['Color', ' Black and White'], value=[0, 1], inplace=True)\n",
    "df['color'] = df['color'].astype(float)"
   ]
  },
  {
   "cell_type": "code",
   "execution_count": 4,
   "metadata": {},
   "outputs": [],
   "source": [
    "df = df.select_dtypes(include=['float64', 'int64', 'int'])\n",
    "df = df.dropna().astype(float)"
   ]
  },
  {
   "cell_type": "markdown",
   "metadata": {},
   "source": [
    "# Feature Selection"
   ]
  },
  {
   "cell_type": "code",
   "execution_count": 5,
   "metadata": {},
   "outputs": [
    {
     "name": "stdout",
     "output_type": "stream",
     "text": [
      "<class 'pandas.core.frame.DataFrame'>\n",
      "Int64Index: 3800 entries, 0 to 5042\n",
      "Data columns (total 17 columns):\n",
      "color                        3800 non-null float64\n",
      "num_critic_for_reviews       3800 non-null float64\n",
      "duration                     3800 non-null float64\n",
      "director_facebook_likes      3800 non-null float64\n",
      "actor_3_facebook_likes       3800 non-null float64\n",
      "actor_1_facebook_likes       3800 non-null float64\n",
      "gross                        3800 non-null float64\n",
      "num_voted_users              3800 non-null float64\n",
      "cast_total_facebook_likes    3800 non-null float64\n",
      "facenumber_in_poster         3800 non-null float64\n",
      "num_user_for_reviews         3800 non-null float64\n",
      "budget                       3800 non-null float64\n",
      "title_year                   3800 non-null float64\n",
      "actor_2_facebook_likes       3800 non-null float64\n",
      "imdb_score                   3800 non-null float64\n",
      "aspect_ratio                 3800 non-null float64\n",
      "movie_facebook_likes         3800 non-null float64\n",
      "dtypes: float64(17)\n",
      "memory usage: 534.4 KB\n"
     ]
    }
   ],
   "source": [
    "df.info()"
   ]
  },
  {
   "cell_type": "markdown",
   "metadata": {},
   "source": [
    "We need to remove certain features that should not be part of our algorithm as they could affect the performance of a model. The aspect ratio and the number of faces in a movie’s poster should not be part of the analysis as they are irrelevant."
   ]
  },
  {
   "cell_type": "code",
   "execution_count": 6,
   "metadata": {},
   "outputs": [
    {
     "name": "stdout",
     "output_type": "stream",
     "text": [
      "<class 'pandas.core.frame.DataFrame'>\n",
      "Int64Index: 3800 entries, 0 to 5042\n",
      "Data columns (total 15 columns):\n",
      "color                        3800 non-null float64\n",
      "num_critic_for_reviews       3800 non-null float64\n",
      "duration                     3800 non-null float64\n",
      "director_facebook_likes      3800 non-null float64\n",
      "actor_3_facebook_likes       3800 non-null float64\n",
      "actor_1_facebook_likes       3800 non-null float64\n",
      "gross                        3800 non-null float64\n",
      "num_voted_users              3800 non-null float64\n",
      "cast_total_facebook_likes    3800 non-null float64\n",
      "num_user_for_reviews         3800 non-null float64\n",
      "budget                       3800 non-null float64\n",
      "title_year                   3800 non-null float64\n",
      "actor_2_facebook_likes       3800 non-null float64\n",
      "imdb_score                   3800 non-null float64\n",
      "movie_facebook_likes         3800 non-null float64\n",
      "dtypes: float64(15)\n",
      "memory usage: 475.0 KB\n"
     ]
    }
   ],
   "source": [
    "df.drop(['aspect_ratio', 'facenumber_in_poster'], axis=1, inplace=True)\n",
    "df.info()"
   ]
  },
  {
   "cell_type": "markdown",
   "metadata": {},
   "source": [
    "As seen in the heatmap in our exploratory data analysis, some of the features in the dataset are correlated.  The correlated features must be converted into linearly unrrelated variables using Principal Component Analysis (PCA). Moreover, training on a dataset with a large number of features like ours can also result in a model with a high rate of errors as it's more prone to bias. With the PCA, we are able to reduce the dimensions of the data while losing only a small amount information."
   ]
  },
  {
   "cell_type": "code",
   "execution_count": 7,
   "metadata": {},
   "outputs": [],
   "source": [
    "# Distributing the datset into two components X and y\n",
    "\n",
    "X = df.drop('imdb_score', axis=1).values\n",
    "y = df['imdb_score'].values"
   ]
  },
  {
   "cell_type": "code",
   "execution_count": 8,
   "metadata": {},
   "outputs": [],
   "source": [
    "# Feature Scaling \n",
    "# Preprocessing the data by fitting a scaler on the dataset\n",
    "\n",
    "from sklearn.preprocessing import StandardScaler\n",
    "sc = StandardScaler()\n",
    "\n",
    "X = sc.fit_transform(X)"
   ]
  },
  {
   "cell_type": "code",
   "execution_count": 9,
   "metadata": {},
   "outputs": [],
   "source": [
    "from sklearn.decomposition import PCA\n",
    "\n",
    "# Creating a PCA that will retain 95% of the variance\n",
    "\n",
    "pca = PCA(.95)\n",
    "\n",
    "# Applying the PCA on the dataset\n",
    "\n",
    "X_pca = pca.fit_transform(X)"
   ]
  },
  {
   "cell_type": "code",
   "execution_count": 10,
   "metadata": {},
   "outputs": [
    {
     "name": "stdout",
     "output_type": "stream",
     "text": [
      "Original number of features: 14\n",
      "Reduced number of features: 11\n"
     ]
    }
   ],
   "source": [
    "# Results\n",
    "\n",
    "print('Original number of features:', X.shape[1])\n",
    "print('Reduced number of features:', X_pca.shape[1])"
   ]
  },
  {
   "cell_type": "code",
   "execution_count": null,
   "metadata": {},
   "outputs": [],
   "source": []
  }
 ],
 "metadata": {
  "kernelspec": {
   "display_name": "Python 3",
   "language": "python",
   "name": "python3"
  },
  "language_info": {
   "codemirror_mode": {
    "name": "ipython",
    "version": 3
   },
   "file_extension": ".py",
   "mimetype": "text/x-python",
   "name": "python",
   "nbconvert_exporter": "python",
   "pygments_lexer": "ipython3",
   "version": "3.6.7"
  }
 },
 "nbformat": 4,
 "nbformat_minor": 2
}
